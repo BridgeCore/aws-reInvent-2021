{
 "cells": [
  {
   "cell_type": "markdown",
   "metadata": {},
   "source": [
    "# Introduction\n",
    "\n",
    "**Table of Contents**\n",
    "1. Amazon SageMaker Studio notebooks\n",
    "2. Dataset: Synthetic insurance documents"
   ]
  },
  {
   "cell_type": "markdown",
   "metadata": {},
   "source": [
    "## 1. Using the Amazon SageMaker Studio notebook environment\n",
    "\n",
    "Amazon SageMaker Studio is an IDE (integrated development environment) for machine learning. It is based on the JupyterLab platform, and has built-in integrations with AWS AI and ML services to help developers and data scientists accelerate their productivity.\n",
    "\n",
    "In SageMaker Studio, users write and execute code in notebooks. Notebook documents can contain both executable code (Python) and rich text elements (paragraph, markdown, figures), and consist of multiple cells which can be executed one at a time.\n",
    "\n",
    "### How to execute a notebook cell\n",
    "To run a notebook cell, first select the cell by clicking on the cell. The selected cell will have a blue highlighted border around it. Then execute the highlighted cell by either:\n",
    "  * Entering the keyboard shortcut `Shift + Enter`. This runs the selected cell and automatically selects the next cell.\n",
    "  * Choosing the ▶️ button in the notebook toolbar at the top of the notebook.\n",
    "  * In the SageMaker Studio dropdown menu, choosing **Run**, **Run Selected Cells**"
   ]
  },
  {
   "cell_type": "markdown",
   "metadata": {},
   "source": [
    "## 2. Exploring the synthetic insurance documents dataset\n",
    "\n",
    "Now that you are familiar with the notebook environment, let's take a closer look at the dataset we will be using for this workshop. We have provided you a dataset of synthetically generated documents, representative of the type of forms that would be submitted as part of a claim during the claims adjudication process. Insurers have a business need to extract the relevant information from these forms quickly and accurately, in order to process customer claims at scale.\n",
    "\n",
    "As part of the initial setup instructions, the documents dataset was copied to an S3 bucket in this account. Run the cell below to print the S3 path where they are stored. We will save this path as the `DATA_S3_PREFIX` variable, and also store it for use in subsequent notebooks.\n"
   ]
  },
  {
   "cell_type": "code",
   "execution_count": 2,
   "metadata": {},
   "outputs": [
    {
     "name": "stdout",
     "output_type": "stream",
     "text": [
      "Stored 'DATA_S3_PREFIX' (str)\n"
     ]
    },
    {
     "data": {
      "text/plain": [
       "'s3://sagemaker-studio-c758d250/documents/'"
      ]
     },
     "execution_count": 2,
     "metadata": {},
     "output_type": "execute_result"
    }
   ],
   "source": [
    "import boto3\n",
    "import os\n",
    "import time\n",
    "from IPython.display import IFrame\n",
    "\n",
    "\n",
    "def get_ssm_parameter(parameter_name):\n",
    "    return boto3.client('ssm').get_parameter(Name=parameter_name)['Parameter']['Value']\n",
    "\n",
    "def split_s3_uri(uri):\n",
    "    \"\"\"return (bucket, key) tuple from s3 uri like 's3://bucket/prefix/file.txt' \"\"\"\n",
    "    return uri.replace('s3://','').split('/',1)\n",
    "\n",
    "def visualize_pdf(document_location, width=600, height=800):\n",
    "    \"\"\"Visualize pdf stored in s3 as an IFrame in notebook\"\"\"\n",
    "    bucket, key = split_s3_uri(document_location)\n",
    "    tmpdir = 'tmp'\n",
    "    tmpfile = os.path.join(tmpdir,'sample_doc.pdf')\n",
    "    os.makedirs(tmpdir, exist_ok=True)\n",
    "    boto3.resource('s3').Object(bucket, key).download_file(tmpfile)\n",
    "    time.sleep(5)\n",
    "    return IFrame(tmpfile, width=width, height=height)\n",
    "\n",
    "# path where notebooks are located. They were copied from the assets bucket to the Output bucket in the setup instructions.\n",
    "DATA_S3_PREFIX = os.path.join('s3://', get_ssm_parameter('OutputBucketName'), 'documents/')\n",
    "\n",
    "# Also store the DATA_S3_PREFIX for subsequent notebooks\n",
    "%store DATA_S3_PREFIX\n",
    "\n",
    "DATA_S3_PREFIX"
   ]
  },
  {
   "cell_type": "code",
   "execution_count": 3,
   "metadata": {},
   "outputs": [
    {
     "data": {
      "text/plain": [
       "251"
      ]
     },
     "execution_count": 3,
     "metadata": {},
     "output_type": "execute_result"
    }
   ],
   "source": [
    "# list of document files\n",
    "documents = [d.key.split('/')[-1] for d in boto3.resource('s3').Bucket(get_ssm_parameter('OutputBucketName')).objects.filter(Prefix='documents/')]\n",
    "\n",
    "# number of documents in the collection\n",
    "len(documents)"
   ]
  },
  {
   "cell_type": "code",
   "execution_count": 4,
   "metadata": {},
   "outputs": [
    {
     "data": {
      "text/plain": [
       "['INSR_ACORD-Property-Loss-Notice-12.05.16_1_pii_00000.pdf',\n",
       " 'INSR_ACORD-Property-Loss-Notice-12.05.16_1_pii_00001.pdf',\n",
       " 'INSR_ACORD-Property-Loss-Notice-12.05.16_1_pii_00002.pdf',\n",
       " 'INSR_ACORD-Property-Loss-Notice-12.05.16_1_pii_00003.pdf',\n",
       " 'INSR_ACORD-Property-Loss-Notice-12.05.16_1_pii_00004.pdf',\n",
       " 'INSR_ACORD-Property-Loss-Notice-12.05.16_1_pii_00005.pdf',\n",
       " 'INSR_ACORD-Property-Loss-Notice-12.05.16_1_pii_00006.pdf',\n",
       " 'INSR_ACORD-Property-Loss-Notice-12.05.16_1_pii_00007.pdf',\n",
       " 'INSR_ACORD-Property-Loss-Notice-12.05.16_1_pii_00008.pdf',\n",
       " 'INSR_ACORD-Property-Loss-Notice-12.05.16_1_pii_00009.pdf']"
      ]
     },
     "execution_count": 4,
     "metadata": {},
     "output_type": "execute_result"
    }
   ],
   "source": [
    "MAX_RESULTS = 10  # max number of file names to display - increase this if you want to see more files\n",
    "documents[:MAX_RESULTS]"
   ]
  },
  {
   "cell_type": "markdown",
   "metadata": {},
   "source": [
    "## Inspecting the forms dataset\n",
    "\n",
    "There are several types of forms represented in the synthetic dataset.\n",
    "\n",
    "You can navigate to the S3 console and view the contents of the sagemaker-studio-xx bucket, under the documents/ prefix, where you can download and inspect document.\n",
    "\n",
    "Below we show you how to can also inspect PDF files inline in the notebook environment.\n",
    "\n",
    "*Note: if you get a 504 Bad Notebook Gateway Error while attempting to render the PDF inline, try executing the cell again.*"
   ]
  },
  {
   "cell_type": "code",
   "execution_count": 19,
   "metadata": {},
   "outputs": [
    {
     "data": {
      "text/html": [
       "\n",
       "        <iframe\n",
       "            width=\"600\"\n",
       "            height=\"800\"\n",
       "            src=\"tmp/sample_doc.pdf\"\n",
       "            frameborder=\"0\"\n",
       "            allowfullscreen\n",
       "        ></iframe>\n",
       "        "
      ],
      "text/plain": [
       "<IPython.lib.display.IFrame at 0x7fa9b5ce7dd0>"
      ]
     },
     "execution_count": 19,
     "metadata": {},
     "output_type": "execute_result"
    }
   ],
   "source": [
    "visualize_pdf(\n",
    "    os.path.join(DATA_S3_PREFIX, 'INSR_FEMA-Form_086-0-11_Notice-of-Loss_1_pii_00000.pdf'),\n",
    "    height=800, width=600  # adjust pixel height/width if desired\n",
    ")"
   ]
  },
  {
   "cell_type": "code",
   "execution_count": 20,
   "metadata": {},
   "outputs": [
    {
     "data": {
      "text/html": [
       "\n",
       "        <iframe\n",
       "            width=\"600\"\n",
       "            height=\"800\"\n",
       "            src=\"tmp/sample_doc.pdf\"\n",
       "            frameborder=\"0\"\n",
       "            allowfullscreen\n",
       "        ></iframe>\n",
       "        "
      ],
      "text/plain": [
       "<IPython.lib.display.IFrame at 0x7fa9b5d5b350>"
      ]
     },
     "execution_count": 20,
     "metadata": {},
     "output_type": "execute_result"
    }
   ],
   "source": [
    "visualize_pdf(os.path.join(DATA_S3_PREFIX, 'INSR_lightning-affidavit_pii_00030.pdf'))"
   ]
  },
  {
   "cell_type": "code",
   "execution_count": 21,
   "metadata": {},
   "outputs": [
    {
     "data": {
      "text/html": [
       "\n",
       "        <iframe\n",
       "            width=\"600\"\n",
       "            height=\"800\"\n",
       "            src=\"tmp/sample_doc.pdf\"\n",
       "            frameborder=\"0\"\n",
       "            allowfullscreen\n",
       "        ></iframe>\n",
       "        "
      ],
      "text/plain": [
       "<IPython.lib.display.IFrame at 0x7fa9b5c843d0>"
      ]
     },
     "execution_count": 21,
     "metadata": {},
     "output_type": "execute_result"
    }
   ],
   "source": [
    "visualize_pdf(os.path.join(DATA_S3_PREFIX, 'INSR_pm_hipaa_1_pii_00048.pdf'))"
   ]
  },
  {
   "cell_type": "code",
   "execution_count": 9,
   "metadata": {},
   "outputs": [
    {
     "data": {
      "text/html": [
       "\n",
       "        <iframe\n",
       "            width=\"600\"\n",
       "            height=\"800\"\n",
       "            src=\"tmp/sample_doc.pdf\"\n",
       "            frameborder=\"0\"\n",
       "            allowfullscreen\n",
       "        ></iframe>\n",
       "        "
      ],
      "text/plain": [
       "<IPython.lib.display.IFrame at 0x7fa9b725f290>"
      ]
     },
     "execution_count": 9,
     "metadata": {},
     "output_type": "execute_result"
    }
   ],
   "source": [
    "visualize_pdf(os.path.join(DATA_S3_PREFIX, 'INSR_claim-form-agwm_5_pii_00000.pdf'))"
   ]
  },
  {
   "cell_type": "code",
   "execution_count": 8,
   "metadata": {},
   "outputs": [
    {
     "data": {
      "text/html": [
       "\n",
       "        <iframe\n",
       "            width=\"600\"\n",
       "            height=\"800\"\n",
       "            src=\"tmp/sample_doc.pdf\"\n",
       "            frameborder=\"0\"\n",
       "            allowfullscreen\n",
       "        ></iframe>\n",
       "        "
      ],
      "text/plain": [
       "<IPython.lib.display.IFrame at 0x7fa9b6e6fa90>"
      ]
     },
     "execution_count": 8,
     "metadata": {},
     "output_type": "execute_result"
    }
   ],
   "source": [
    "visualize_pdf(os.path.join(DATA_S3_PREFIX, 'INSR_ACORD-Property-Loss-Notice-12.05.16_1_pii_00000.pdf'))"
   ]
  },
  {
   "cell_type": "markdown",
   "metadata": {},
   "source": [
    "Let's say that as an insurer, your company has a need to identify the following pieces of information within claims package forms:\n",
    "* Date of the form\n",
    "* Date of the loss\n",
    "* Name of insured\n",
    "* Location of loss\n",
    "* Insured mailing address\n",
    "\n",
    "Try identifying these fields in the example forms above. Questions to consider:\n",
    "* Are there any rules-based approaches that could work for one or more of these form type?\n",
    "* Which fields could be challenging to identify or disamiguate among several values?\n",
    "* What kind of sensitive information is contained in these forms?"
   ]
  },
  {
   "cell_type": "code",
   "execution_count": null,
   "metadata": {},
   "outputs": [],
   "source": []
  }
 ],
 "metadata": {
  "instance_type": "ml.t3.medium",
  "kernelspec": {
   "display_name": "Python 3 (Data Science)",
   "language": "python",
   "name": "python3__SAGEMAKER_INTERNAL__arn:aws:sagemaker:us-east-1:081325390199:image/datascience-1.0"
  },
  "language_info": {
   "codemirror_mode": {
    "name": "ipython",
    "version": 3
   },
   "file_extension": ".py",
   "mimetype": "text/x-python",
   "name": "python",
   "nbconvert_exporter": "python",
   "pygments_lexer": "ipython3",
   "version": "3.7.10"
  }
 },
 "nbformat": 4,
 "nbformat_minor": 5
}
